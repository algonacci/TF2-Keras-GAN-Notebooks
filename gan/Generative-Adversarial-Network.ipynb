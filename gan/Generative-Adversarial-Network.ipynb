{
 "cells": [
  {
   "cell_type": "markdown",
   "metadata": {
    "colab_type": "text",
    "id": "view-in-github"
   },
   "source": [
    "<a href=\"https://colab.research.google.com/github/kartikgill/The-GAN-Book/blob/main/Skill-02/Generative-Adversarial-Network.ipynb\" target=\"_parent\"><img src=\"https://colab.research.google.com/assets/colab-badge.svg\" alt=\"Open In Colab\"/></a>"
   ]
  },
  {
   "cell_type": "markdown",
   "metadata": {},
   "source": [
    "# Importing useful Libraries"
   ]
  },
  {
   "cell_type": "code",
   "execution_count": null,
   "metadata": {
    "ExecuteTime": {
     "end_time": "2020-12-06T15:43:55.554499Z",
     "start_time": "2020-12-06T15:43:55.043211Z"
    },
    "collapsed": true,
    "id": "14h4ejQKFVe9"
   },
   "outputs": [],
   "source": [
    "import pandas as pd\n",
    "import numpy as np\n",
    "import matplotlib.pyplot as plt\n",
    "from tqdm import tqdm_notebook\n",
    "%matplotlib inline"
   ]
  },
  {
   "cell_type": "code",
   "execution_count": null,
   "metadata": {
    "ExecuteTime": {
     "end_time": "2020-12-06T15:43:56.912284Z",
     "start_time": "2020-12-06T15:43:55.556004Z"
    },
    "colab": {
     "base_uri": "https://localhost:8080/"
    },
    "id": "UnlKaodtFVe9",
    "outputId": "1f4565f5-c0ce-4ead-af8e-99ba139c4ea6"
   },
   "outputs": [],
   "source": [
    "import tensorflow\n",
    "print (tensorflow.__version__)"
   ]
  },
  {
   "cell_type": "markdown",
   "metadata": {},
   "source": [
    "# Download and show dataset"
   ]
  },
  {
   "cell_type": "code",
   "execution_count": null,
   "metadata": {
    "ExecuteTime": {
     "end_time": "2020-12-06T15:43:57.855772Z",
     "start_time": "2020-12-06T15:43:56.914009Z"
    },
    "colab": {
     "base_uri": "https://localhost:8080/",
     "height": 501
    },
    "id": "s0l5lTN_FVe-",
    "outputId": "41f6cdaf-5f4c-46e5-ac34-ec62dd1a7c17"
   },
   "outputs": [],
   "source": [
    "from tensorflow.keras.datasets import fashion_mnist, mnist\n",
    "\n",
    "(trainX, trainY), (testX, testY) = mnist.load_data()\n",
    "\n",
    "print('Training data shapes: X=%s, y=%s' % (trainX.shape, trainY.shape))\n",
    "print('Testing data shapes: X=%s, y=%s' % (testX.shape, testY.shape))\n",
    "\n",
    "\n",
    "for k in range(9):\n",
    "    plt.figure(figsize=(7, 7))\n",
    "    for j in range(9):\n",
    "        i = np.random.randint(0, 10000)\n",
    "        plt.subplot(990 + 1 + j)\n",
    "        plt.imshow(trainX[i], cmap='gray_r')\n",
    "        plt.axis('off')\n",
    "        #plt.title(trainY[i])\n",
    "    plt.show()"
   ]
  },
  {
   "cell_type": "markdown",
   "metadata": {},
   "source": [
    "# Data Normalization"
   ]
  },
  {
   "cell_type": "code",
   "execution_count": null,
   "metadata": {
    "ExecuteTime": {
     "end_time": "2020-12-06T15:43:59.876897Z",
     "start_time": "2020-12-06T15:43:59.151348Z"
    },
    "colab": {
     "base_uri": "https://localhost:8080/"
    },
    "id": "hqqMY5NQFVe-",
    "outputId": "b7702705-68f2-4cbe-c628-f6892b6869ec"
   },
   "outputs": [],
   "source": [
    "trainX = [image/255.0 for image in trainX]\n",
    "testX = [image/255.0 for image in testX]\n",
    "\n",
    "trainX = np.reshape(trainX, (60000, 28, 28, 1))\n",
    "testX = np.reshape(testX, (10000, 28, 28, 1))\n",
    "\n",
    "print (trainX.shape, testX.shape, trainY.shape, testY.shape)"
   ]
  },
  {
   "cell_type": "markdown",
   "metadata": {
    "id": "kxFTsuaGFVe-"
   },
   "source": [
    "# Generator Network"
   ]
  },
  {
   "cell_type": "code",
   "execution_count": null,
   "metadata": {
    "ExecuteTime": {
     "end_time": "2020-12-06T15:44:00.969164Z",
     "start_time": "2020-12-06T15:44:00.906684Z"
    },
    "colab": {
     "base_uri": "https://localhost:8080/"
    },
    "id": "SaVxAgAaFVe-",
    "outputId": "30f6c782-820b-40fa-bfbf-8dee01bb72ad"
   },
   "outputs": [],
   "source": [
    "random_input = tensorflow.keras.layers.Input(shape = 50)\n",
    "\n",
    "x = tensorflow.keras.layers.Dense(1200, activation='relu')(random_input)\n",
    "x = tensorflow.keras.layers.BatchNormalization(momentum=0.8)(x)\n",
    "x = tensorflow.keras.layers.Dense(1000, activation='relu')(x)\n",
    "x = tensorflow.keras.layers.BatchNormalization(momentum=0.8)(x)\n",
    "x = tensorflow.keras.layers.Dense(28*28)(x)\n",
    "x = tensorflow.keras.layers.Reshape((28, 28, 1))(x)\n",
    "\n",
    "generated_image = tensorflow.keras.layers.Activation('sigmoid')(x)\n",
    "\n",
    "generator_network = tensorflow.keras.models.Model(inputs=random_input, outputs=generated_image)\n",
    "generator_network.summary()"
   ]
  },
  {
   "cell_type": "markdown",
   "metadata": {
    "id": "CKXvIJKaFVe-"
   },
   "source": [
    "# Discriminator Network"
   ]
  },
  {
   "cell_type": "code",
   "execution_count": null,
   "metadata": {
    "ExecuteTime": {
     "end_time": "2020-12-06T15:44:02.117411Z",
     "start_time": "2020-12-06T15:44:02.082844Z"
    },
    "colab": {
     "base_uri": "https://localhost:8080/"
    },
    "id": "Am8xrShkFVe-",
    "outputId": "bdddba9a-9c27-4280-fab3-51f4928e12f8"
   },
   "outputs": [],
   "source": [
    "image_input = tensorflow.keras.layers.Input(shape=(28, 28, 1))\n",
    "\n",
    "x = tensorflow.keras.layers.Flatten()(image_input)\n",
    "x = tensorflow.keras.layers.Dense(256, activation='relu')(x)\n",
    "x = tensorflow.keras.layers.Dropout(0.3)(x)\n",
    "x = tensorflow.keras.layers.Dense(128, activation='relu')(x)\n",
    "x = tensorflow.keras.layers.Dropout(0.5)(x)\n",
    "x = tensorflow.keras.layers.Dense(1)(x)\n",
    "\n",
    "real_vs_fake_output = tensorflow.keras.layers.Activation('sigmoid')(x)\n",
    "\n",
    "discriminator_network = tensorflow.keras.models.Model(inputs=image_input, outputs=real_vs_fake_output)\n",
    "discriminator_network.summary()"
   ]
  },
  {
   "cell_type": "code",
   "execution_count": null,
   "metadata": {
    "ExecuteTime": {
     "end_time": "2020-12-06T15:44:02.498744Z",
     "start_time": "2020-12-06T15:44:02.483429Z"
    },
    "collapsed": true,
    "id": "tMc1CyNNFVe-"
   },
   "outputs": [],
   "source": [
    "adam_optimizer = tensorflow.keras.optimizers.Adam(learning_rate=0.00005, beta_1=0.5)\n",
    "discriminator_network.compile(loss='binary_crossentropy', optimizer=adam_optimizer, metrics=['accuracy'])"
   ]
  },
  {
   "cell_type": "markdown",
   "metadata": {
    "id": "99IlAN3AFVe-"
   },
   "source": [
    "# GAN, Defining combined model"
   ]
  },
  {
   "cell_type": "code",
   "execution_count": null,
   "metadata": {
    "ExecuteTime": {
     "end_time": "2020-12-06T15:44:03.435171Z",
     "start_time": "2020-12-06T15:44:03.405423Z"
    },
    "colab": {
     "base_uri": "https://localhost:8080/"
    },
    "id": "mjnxFr21FVe-",
    "outputId": "0af2c8f6-ce27-4080-e860-d50089d1b073"
   },
   "outputs": [],
   "source": [
    "discriminator_network.trainable=False\n",
    "\n",
    "g_output = generator_network(random_input)\n",
    "d_output = discriminator_network(g_output)\n",
    "\n",
    "gan_model = tensorflow.keras.models.Model(random_input, d_output)\n",
    "gan_model.summary()"
   ]
  },
  {
   "cell_type": "markdown",
   "metadata": {
    "id": "MFyjhkyCFVe_"
   },
   "source": [
    "# Compiling GAN"
   ]
  },
  {
   "cell_type": "code",
   "execution_count": null,
   "metadata": {
    "ExecuteTime": {
     "end_time": "2020-12-06T15:44:04.264651Z",
     "start_time": "2020-12-06T15:44:04.254338Z"
    },
    "collapsed": true,
    "id": "rPG_olwXFVe_"
   },
   "outputs": [],
   "source": [
    "gan_model.compile(loss='binary_crossentropy', optimizer=adam_optimizer)"
   ]
  },
  {
   "cell_type": "markdown",
   "metadata": {
    "id": "5RpVWMO8FVe_"
   },
   "source": [
    "# Define Data Generators"
   ]
  },
  {
   "cell_type": "code",
   "execution_count": null,
   "metadata": {
    "ExecuteTime": {
     "end_time": "2020-12-06T15:44:04.963459Z",
     "start_time": "2020-12-06T15:44:04.947923Z"
    },
    "collapsed": true,
    "id": "pTSivi-dFVe_"
   },
   "outputs": [],
   "source": [
    "# Indices of Zero Images\n",
    "indices = [i for i in range(len(trainX))]\n",
    "\n",
    "def get_random_noise(batch_size, noise_size):\n",
    "    random_values = np.random.randn(batch_size*noise_size)\n",
    "    random_noise_batch = np.reshape(random_values, (batch_size, noise_size))\n",
    "    return random_noise_batch\n",
    "\n",
    "def get_fake_samples(generator_network, batch_size, noise_size):\n",
    "    random_noise_batch = get_random_noise(batch_size, noise_size) \n",
    "    fake_samples = generator_network.predict_on_batch(random_noise_batch)\n",
    "    return fake_samples\n",
    "\n",
    "def get_real_samples(batch_size):\n",
    "    random_indices = np.random.choice(indices, size=batch_size)\n",
    "    real_images = trainX[np.array(random_indices),:]\n",
    "    return real_images\n",
    "\n",
    "def show_generator_results(generator_network):\n",
    "    for k in range(9):\n",
    "        plt.figure(figsize=(7, 7))\n",
    "        fake_samples = get_fake_samples(generator_network, 9, noise_size)\n",
    "        for j in range(9):\n",
    "            plt.subplot(990 + 1 + j)\n",
    "            plt.imshow(fake_samples[j,:,:,-1], cmap='gray_r')\n",
    "            plt.axis('off')\n",
    "            #plt.title(trainY[i])\n",
    "        plt.show()\n",
    "    return"
   ]
  },
  {
   "cell_type": "markdown",
   "metadata": {
    "id": "fEOpY_BZFVe_"
   },
   "source": [
    "# Training GAN"
   ]
  },
  {
   "cell_type": "code",
   "execution_count": null,
   "metadata": {
    "ExecuteTime": {
     "end_time": "2020-12-06T15:46:15.056781Z",
     "start_time": "2020-12-06T15:44:05.705964Z"
    },
    "colab": {
     "base_uri": "https://localhost:8080/",
     "height": 1000
    },
    "id": "E_nihCaQFVe_",
    "outputId": "6ca4494e-9a3a-4bd7-dcc9-7b340826af24",
    "scrolled": false
   },
   "outputs": [],
   "source": [
    "epochs = 200\n",
    "batch_size = 100\n",
    "steps = 500\n",
    "noise_size = 50\n",
    "\n",
    "losses_d = []\n",
    "losses_g = []\n",
    "\n",
    "for i in range(0, epochs):\n",
    "    if (i%10 == 0):\n",
    "        show_generator_results(generator_network)\n",
    "    for j in range(steps):\n",
    "        fake_samples = get_fake_samples(generator_network, batch_size//2, noise_size)\n",
    "        real_samples = get_real_samples(batch_size=batch_size//2)\n",
    "\n",
    "        fake_y = np.zeros((batch_size//2, 1))\n",
    "        real_y = np.ones((batch_size//2, 1))\n",
    "        \n",
    "        input_batch = np.vstack((fake_samples, real_samples))\n",
    "        output_labels = np.vstack((fake_y, real_y))\n",
    "        \n",
    "        # Updating Discriminator weights\n",
    "        discriminator_network.trainable=True\n",
    "        loss_d = discriminator_network.train_on_batch(input_batch, output_labels)\n",
    "        \n",
    "        gan_input = get_random_noise(batch_size, noise_size)\n",
    "        \n",
    "        # Make the Discriminator belive that these are real samples and calculate loss to train the generator\n",
    "        gan_output = np.ones((batch_size))\n",
    "        \n",
    "        # Updating Generator weights\n",
    "        discriminator_network.trainable=False\n",
    "        loss_g = gan_model.train_on_batch(gan_input, gan_output)\n",
    "\n",
    "        losses_d.append(loss_d[0])\n",
    "        losses_g.append(loss_g)\n",
    "        \n",
    "        if j%50 == 0:\n",
    "            print (\"Epoch:%.0f, Step:%.0f, D-Loss:%.3f, D-Acc:%.3f, G-Loss:%.3f\"%(i,j,loss_d[0],loss_d[1]*100,loss_g))"
   ]
  },
  {
   "cell_type": "markdown",
   "metadata": {},
   "source": [
    "# Show Results"
   ]
  },
  {
   "cell_type": "code",
   "execution_count": null,
   "metadata": {
    "ExecuteTime": {
     "end_time": "2020-12-06T15:46:20.446288Z",
     "start_time": "2020-12-06T15:46:16.949557Z"
    },
    "colab": {
     "base_uri": "https://localhost:8080/",
     "height": 1000
    },
    "id": "LizIvH-qFVe_",
    "outputId": "a5a99fc6-82dc-4669-a366-a2b6bd2dc3ac"
   },
   "outputs": [],
   "source": [
    "#Generating Unlimited samples\n",
    "for i in range(5):\n",
    "    show_generator_results(generator_network)"
   ]
  },
  {
   "cell_type": "markdown",
   "metadata": {},
   "source": [
    "# Plot GAN loss"
   ]
  },
  {
   "cell_type": "code",
   "execution_count": null,
   "metadata": {
    "colab": {
     "base_uri": "https://localhost:8080/",
     "height": 404
    },
    "id": "OtkUT-YzKOFU",
    "outputId": "d0853db7-c241-4b1b-c19b-ea19cbcf5b31"
   },
   "outputs": [],
   "source": [
    "steps = [i for i in range(len(losses_d))]\n",
    "plt.figure(figsize=(10, 6))\n",
    "plt.plot(losses_d[:5000])\n",
    "plt.plot(losses_g[:5000])\n",
    "plt.xlabel('Steps')\n",
    "plt.ylabel('Loss Value')\n",
    "plt.title(\"GAN: Loss Trends\")\n",
    "plt.legend(['Discriminator Loss', 'Generator Loss'])\n",
    "plt.show()"
   ]
  },
  {
   "cell_type": "code",
   "execution_count": null,
   "metadata": {
    "collapsed": true,
    "id": "SbARejYMLhp0"
   },
   "outputs": [],
   "source": []
  }
 ],
 "metadata": {
  "accelerator": "GPU",
  "colab": {
   "include_colab_link": true,
   "name": "Generative Adversarial Network.ipynb",
   "provenance": []
  },
  "kernelspec": {
   "display_name": "Python 3",
   "language": "python",
   "name": "python3"
  },
  "language_info": {
   "codemirror_mode": {
    "name": "ipython",
    "version": 3
   },
   "file_extension": ".py",
   "mimetype": "text/x-python",
   "name": "python",
   "nbconvert_exporter": "python",
   "pygments_lexer": "ipython3",
   "version": "3.6.9"
  }
 },
 "nbformat": 4,
 "nbformat_minor": 1
}
